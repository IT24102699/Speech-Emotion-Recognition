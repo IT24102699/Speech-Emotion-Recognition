{
 "cells": [
  {
   "cell_type": "markdown",
   "id": "6298b0f6-fca0-48e7-941b-cf732622f3be",
   "metadata": {},
   "source": [
    "# Speech Emotion Recognition\n",
    "# SVM Model"
   ]
  },
  {
   "cell_type": "markdown",
   "id": "900a6590-8e12-49e8-9d55-62abe01e58f1",
   "metadata": {},
   "source": [
    "## 01) Importing Libraries"
   ]
  },
  {
   "cell_type": "code",
   "execution_count": 31,
   "id": "0ab3c011-643b-4481-ac25-202bb6ec2274",
   "metadata": {},
   "outputs": [],
   "source": [
    "import sys\n",
    "import os\n",
    "import argparse\n",
    "import random\n",
    "import time\n",
    "import numpy as np\n",
    "from sklearn.model_selection import train_test_split\n",
    "from sklearn.svm import SVC\n",
    "from sklearn.metrics import accuracy_score, classification_report, f1_score, confusion_matrix\n",
    "import joblib\n",
    "import torch\n",
    "import matplotlib.pyplot as plt\n",
    "import seaborn as sns\n",
    "\n",
    "SRC_PATH = \"../\"\n",
    "if SRC_PATH not in sys.path:\n",
    "    sys.path.append(os.path.abspath(SRC_PATH))\n",
    "\n",
    "from data_utils import load_data_pt, stratified_split, loss_accuracy_graphs, train_epoch, evaluate\n"
   ]
  },
  {
   "cell_type": "markdown",
   "id": "a8528bdd-45d2-444c-b4df-82daf8a77a37",
   "metadata": {},
   "source": [
    "## 02) Setting Default Values"
   ]
  },
  {
   "cell_type": "code",
   "execution_count": 17,
   "id": "967fc06c-852a-4bb7-94a4-1087e9815daf",
   "metadata": {},
   "outputs": [
    {
     "name": "stdout",
     "output_type": "stream",
     "text": [
      "DATA_PATH : '../../data/extracted/ravdess_features_balanced_rebalanced.pt'\n",
      "OUT_DIR : '../../models/SVM'\n",
      "Device : cuda\n"
     ]
    }
   ],
   "source": [
    "DATA_PATH = '../../data/extracted/ravdess_features_balanced_rebalanced.pt'\n",
    "OUT_DIR = '../../models/SVM'\n",
    "\n",
    "SEED = 42\n",
    "DEVICE = torch.device(\"cuda\" if torch.cuda.is_available() else \"cpu\")\n",
    "PATIENCE = 6\n",
    "\n",
    "print(f\"DATA_PATH : '{DATA_PATH}'\")\n",
    "print(f\"OUT_DIR : '{OUT_DIR}'\")\n",
    "print(f\"Device : {DEVICE}\")"
   ]
  },
  {
   "cell_type": "markdown",
   "id": "6c427fce-f99f-49ec-916c-142032743325",
   "metadata": {},
   "source": [
    "## 03) Method to ensure that Labels are converted as One Dimensional "
   ]
  },
  {
   "cell_type": "code",
   "execution_count": 18,
   "id": "17523abb-b5f7-4bfa-8638-336b65c446ec",
   "metadata": {},
   "outputs": [],
   "source": [
    "def ensure_1d_int_labels(y_tensor):\n",
    "    \"\"\"\n",
    "    Convert torch tensor labels to a 1D numpy int array.\n",
    "    Accepts shapes like (N,), (N,1), or torch.LongTensor.\n",
    "    \"\"\"\n",
    "    y_np = y_tensor.numpy()\n",
    "    # collapse to 1D\n",
    "    y_np = y_np.reshape(-1)\n",
    "    # convert to int\n",
    "    if not np.issubdtype(y_np.dtype, np.integer):\n",
    "        try:\n",
    "            y_np = y_np.astype(int)\n",
    "        except Exception:\n",
    "            raise ValueError(\"Labels could not be cast to integer dtype.\")\n",
    "    return y_np"
   ]
  },
  {
   "cell_type": "markdown",
   "id": "45d152b0-2ae6-4067-ae86-bff955c6fd1b",
   "metadata": {},
   "source": [
    "## 04) Method to Display The Labels along with no of Data "
   ]
  },
  {
   "cell_type": "code",
   "execution_count": 19,
   "id": "eaec6ab8-da3d-4d92-9fd0-d24d8dfdd7fb",
   "metadata": {},
   "outputs": [],
   "source": [
    "def print_label_distribution(y_np, name=\"dataset\"):\n",
    "    uniq, counts = np.unique(y_np, return_counts=True)\n",
    "    print(f\"Label distribution ({name}): total={len(y_np)}  classes={len(uniq)}\")\n",
    "    for u,c in zip(uniq, counts):\n",
    "        print(f\"  label {u}: {c}\")\n",
    "    return uniq, counts"
   ]
  },
  {
   "cell_type": "markdown",
   "id": "2be17c0d-3056-417a-ba74-f307f484a82d",
   "metadata": {},
   "source": [
    "## 05) Training the Model"
   ]
  },
  {
   "cell_type": "code",
   "execution_count": 23,
   "id": "fe1470c8-98a7-424f-893c-7984eeeba9ef",
   "metadata": {},
   "outputs": [
    {
     "name": "stdout",
     "output_type": "stream",
     "text": [
      "Loaded features shape: torch.Size([3072, 228, 180])\n",
      "Label distribution (whole dataset): total=3072  classes=8\n",
      "  label 0: 384\n",
      "  label 1: 384\n",
      "  label 2: 384\n",
      "  label 3: 384\n",
      "  label 4: 384\n",
      "  label 5: 384\n",
      "  label 6: 384\n",
      "  label 7: 384\n",
      "\n",
      "After stratified split:\n",
      "Label distribution (train): total=2457  classes=8\n",
      "  label 0: 307\n",
      "  label 1: 308\n",
      "  label 2: 307\n",
      "  label 3: 307\n",
      "  label 4: 307\n",
      "  label 5: 307\n",
      "  label 6: 307\n",
      "  label 7: 307\n",
      "Label distribution (val): total=307  classes=8\n",
      "  label 0: 39\n",
      "  label 1: 38\n",
      "  label 2: 39\n",
      "  label 3: 38\n",
      "  label 4: 38\n",
      "  label 5: 38\n",
      "  label 6: 39\n",
      "  label 7: 38\n",
      "Label distribution (test): total=308  classes=8\n",
      "  label 0: 38\n",
      "  label 1: 38\n",
      "  label 2: 38\n",
      "  label 3: 39\n",
      "  label 4: 39\n",
      "  label 5: 39\n",
      "  label 6: 38\n",
      "  label 7: 39\n",
      "\n",
      "Training SVM (This may take some time)...\n",
      "Training finished in 69.6 seconds.\n"
     ]
    }
   ],
   "source": [
    "random.seed(SEED); np.random.seed(SEED)\n",
    "X, y, meta = load_data_pt(DATA_PATH)\n",
    "N, T, D = X.shape\n",
    "print(\"Loaded features shape:\", X.shape)\n",
    "\n",
    "try:\n",
    "    y_np = ensure_1d_int_labels(y)\n",
    "except Exception as e:\n",
    "    raise RuntimeError(f\"Error converting labels to 1D ints: {e}\")\n",
    "\n",
    "uniq, counts = print_label_distribution(y_np, name=\"whole dataset\")\n",
    "if len(uniq) < 2:\n",
    "    raise RuntimeError(\"Dataset has fewer than 2 unique classes. Cannot train a classifier. \"\n",
    "                       \"Check your extractor/balancer outputs.\")\n",
    "\n",
    "X_np = X.numpy().reshape(N, -1)\n",
    "X_train, X_temp, y_train, y_temp = train_test_split(X_np, y_np, test_size=0.2, stratify=y_np, random_state=SEED)\n",
    "X_validation, X_test, y_validation, y_test = train_test_split(X_temp, y_temp, test_size=0.5, stratify=y_temp, random_state=SEED)\n",
    "\n",
    "print(\"\\nAfter stratified split:\")\n",
    "print_label_distribution(y_train, name=\"train\")\n",
    "print_label_distribution(y_validation, name=\"val\")\n",
    "print_label_distribution(y_test, name=\"test\")\n",
    "\n",
    "if len(np.unique(y_train)) < 2:\n",
    "    raise RuntimeError(\"Training split contains fewer than 2 classes.\")\n",
    "\n",
    "print(\"\\nTraining SVM (This may take some time)...\")\n",
    "start = time.time()\n",
    "clf = SVC(kernel='rbf', C=1.0, gamma='scale', verbose=False)\n",
    "clf.fit(X_train, y_train)\n",
    "elapsed = time.time() - start\n",
    "print(f\"Training finished in {elapsed:.1f} seconds.\")"
   ]
  },
  {
   "cell_type": "markdown",
   "id": "9c96d88b-44b7-40a4-9f17-57ee9242f2a1",
   "metadata": {},
   "source": [
    "## 06) Saving the Model"
   ]
  },
  {
   "cell_type": "code",
   "execution_count": 35,
   "id": "43414023-d128-473c-a290-86cd3b0cddea",
   "metadata": {},
   "outputs": [
    {
     "name": "stdout",
     "output_type": "stream",
     "text": [
      "Saved SVM Model to: '../../models/SVM/svm.joblib'\n"
     ]
    }
   ],
   "source": [
    "os.makedirs(OUT_DIR, exist_ok=True)\n",
    "out_path = os.path.join(OUT_DIR, \"svm.joblib\")\n",
    "joblib.dump(clf, out_path)\n",
    "print(f\"Saved SVM Model to: '{out_path}'\")"
   ]
  },
  {
   "cell_type": "markdown",
   "id": "7019c791-d03b-4845-bc59-7a1c2792c0a2",
   "metadata": {},
   "source": [
    "## 07) Predicting the Values with Test Dataset"
   ]
  },
  {
   "cell_type": "code",
   "execution_count": 36,
   "id": "3f1eb3d4-0f78-49c9-9c61-05d957f6c23d",
   "metadata": {},
   "outputs": [],
   "source": [
    "preds = clf.predict(X_test)"
   ]
  },
  {
   "cell_type": "markdown",
   "id": "38ade2eb-4cb0-4c62-a9a1-d014ad8bf136",
   "metadata": {},
   "source": [
    "## 08) Accuracy, Classification Report and Confusion Matrix"
   ]
  },
  {
   "cell_type": "code",
   "execution_count": 37,
   "id": "7d72d0be-cc1a-4503-aa5b-4e8d480cfe9c",
   "metadata": {},
   "outputs": [
    {
     "name": "stdout",
     "output_type": "stream",
     "text": [
      "--------Test Set Performance--------\n",
      "Accuracy: 0.8538961038961039\n",
      "Macro F1 Score: 0.8542097894684788\n",
      "\n",
      "\n",
      "--------Classification Report--------\n",
      "\n",
      "               precision    recall  f1-score   support\n",
      "\n",
      "           0       0.82      0.95      0.88        38\n",
      "           1       0.77      0.89      0.83        38\n",
      "           2       0.89      0.87      0.88        38\n",
      "           3       0.82      0.85      0.84        39\n",
      "           4       1.00      0.79      0.89        39\n",
      "           5       0.84      0.82      0.83        39\n",
      "           6       0.95      0.95      0.95        38\n",
      "           7       0.78      0.72      0.75        39\n",
      "\n",
      "    accuracy                           0.85       308\n",
      "   macro avg       0.86      0.85      0.85       308\n",
      "weighted avg       0.86      0.85      0.85       308\n",
      "\n",
      "\n",
      "\n",
      "--------Confusion Maxtrix--------\n"
     ]
    },
    {
     "data": {
      "image/png": "[encoded data removed]",
      "text/plain": [
       "<Figure size 1000x800 with 2 Axes>"
      ]
     },
     "metadata": {},
     "output_type": "display_data"
    }
   ],
   "source": [
    "print(\"--------Test Set Performance--------\")\n",
    "print(f\"Accuracy: {accuracy_score(y_test, preds)}\")\n",
    "print(f\"Macro F1 Score: {f1_score(y_test, preds, average='macro', zero_division=0)}\\n\\n\")\n",
    "print(f\"--------Classification Report--------\\n\\n {classification_report(y_test, preds)}\\n\\n\")\n",
    "\n",
    "print(\"--------Confusion Maxtrix--------\")\n",
    "final_confusion_matrix = confusion_matrix(y_test, preds)\n",
    "plt.figure(figsize=(10, 8))\n",
    "sns.heatmap(final_confusion_matrix, annot=True, fmt='d', cmap='Blues')\n",
    "plt.title(f'Confusion Matrix on Test Set')\n",
    "plt.xlabel('Predicted Label')\n",
    "plt.ylabel('True Label')\n",
    "plt.show()"
   ]
  },
  {
   "cell_type": "code",
   "execution_count": null,
   "id": "16f10139-f0a5-436a-8e58-2602ce59e58e",
   "metadata": {},
   "outputs": [],
   "source": []
  }
 ],
 "metadata": {
  "kernelspec": {
   "display_name": "Python 3 (ipykernel)",
   "language": "python",
   "name": "python3"
  },
  "language_info": {
   "codemirror_mode": {
    "name": "ipython",
    "version": 3
   },
   "file_extension": ".py",
   "mimetype": "text/x-python",
   "name": "python",
   "nbconvert_exporter": "python",
   "pygments_lexer": "ipython3",
   "version": "3.13.7"
  }
 },
 "nbformat": 4,
 "nbformat_minor": 5
}
