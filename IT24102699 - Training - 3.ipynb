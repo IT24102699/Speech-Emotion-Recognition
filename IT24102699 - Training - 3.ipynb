{
 "cells": [
  {
   "cell_type": "code",
   "execution_count": 1,
   "id": "f3f43877-8d4b-4a26-85dd-dee91aaef597",
   "metadata": {},
   "outputs": [],
   "source": [
    "\n",
    "import os\n",
    "import json\n",
    "import random\n",
    "import warnings\n",
    "from pathlib import Path\n",
    "from dataclasses import dataclass, asdict\n",
    "\n",
    "import numpy as np\n",
    "import pandas as pd\n",
    "import torch\n",
    "import torch.nn as nn\n",
    "from torch.utils.data import Dataset, DataLoader\n",
    "\n",
    "import torchaudio\n",
    "from audiomentations import Compose, AddGaussianNoise, PitchShift, Gain\n",
    "\n",
    "from transformers import AutoConfig, Wav2Vec2FeatureExtractor, AutoModelForAudioClassification, get_linear_schedule_with_warmup, logging as hf_logging\n",
    "\n",
    "from sklearn.model_selection import StratifiedGroupKFold\n",
    "from sklearn.metrics import accuracy_score, f1_score, confusion_matrix, classification_report\n",
    "\n",
    "import matplotlib.pyplot as plt\n",
    "import seaborn as sns\n",
    "from tqdm.auto import tqdm\n",
    "\n",
    "warnings.filterwarnings(\"ignore\", category=UserWarning)\n",
    "hf_logging.set_verbosity_error() \n",
    "\n"
   ]
  },
  {
   "cell_type": "code",
   "execution_count": 2,
   "id": "6654e901-4dd8-479f-8e99-f9707f6ecdb5",
   "metadata": {},
   "outputs": [],
   "source": [
    "@dataclass\n",
    "class Config:\n",
    "    # Paths \n",
    "    data_dir: str = \"data/raw/RAVDEES\"\n",
    "    output_dir: str = \"results/outputs/WavLM_SER\"\n",
    "\n",
    "    #  Model \n",
    "    model_name: str = \"microsoft/wavlm-base-plus\"\n",
    "\n",
    "    # Data & Preprocessing \n",
    "    sampling_rate: int = 16000\n",
    "    max_duration_s: float = 4.0\n",
    "    seed: int = 42\n",
    "\n",
    "    #  Training \n",
    "    device: str = \"cuda\" if torch.cuda.is_available() else \"cpu\"\n",
    "    num_epochs: int = 8\n",
    "    batch_size: int = 8\n",
    "    learning_rate_head: float = 5e-4\n",
    "    learning_rate_backbone: float = 5e-5\n",
    "    weight_decay: float = 0.01\n",
    "    num_warmup_steps: int = 50\n",
    "    n_splits: int = 5\n",
    "\n",
    "    # Emotion Mapping \n",
    "    emotion_map: dict = None\n",
    "\n",
    "    def __post_init__(self):\n",
    "        self.emotion_map = {\n",
    "            \"01\": \"neutral\", \"02\": \"calm\", \"03\": \"happy\", \"04\": \"sad\",\n",
    "            \"05\": \"angry\", \"06\": \"fearful\", \"07\": \"disgust\", \"08\": \"surprised\"\n",
    "        }\n",
    "        Path(self.output_dir).mkdir(parents=True, exist_ok=True)\n",
    "\n",
    "\n",
    "def set_seed(seed):\n",
    "    \"\"\"Set seed for reproducibility.\"\"\"\n",
    "    random.seed(seed)\n",
    "    np.random.seed(seed)\n",
    "    torch.manual_seed(seed)\n",
    "    if torch.cuda.is_available():\n",
    "        torch.cuda.manual_seed_all(seed)\n",
    "\n",
    "config = Config()\n",
    "set_seed(config.seed)\n"
   ]
  },
  {
   "cell_type": "code",
   "execution_count": 3,
   "id": "eec19565-14c9-45bc-ab7e-e0d7134060cb",
   "metadata": {},
   "outputs": [
    {
     "name": "stdout",
     "output_type": "stream",
     "text": [
      "Found 1440 audio files.\n",
      "Label mapping: {'angry': 0, 'calm': 1, 'disgust': 2, 'fearful': 3, 'happy': 4, 'neutral': 5, 'sad': 6, 'surprised': 7}\n",
      "Train samples: 1140 | Validation samples: 300 | Test samples: 300\n"
     ]
    }
   ],
   "source": [
    "def get_data_df(data_dir, emotion_map):\n",
    "    \"\"\"Scans the data directory and creates a pandas DataFrame.\"\"\"\n",
    "    wav_files = sorted(list(Path(data_dir).rglob(\"*.wav\")))\n",
    "    if not wav_files:\n",
    "        raise FileNotFoundError(f\"No .wav files found in {data_dir}.\")\n",
    "\n",
    "    data = []\n",
    "    for path in wav_files:\n",
    "        try:\n",
    "            parts = path.stem.split(\"-\")\n",
    "            emotion_code = parts[2]\n",
    "            actor_id = int(parts[-1])\n",
    "            emotion_name = emotion_map.get(emotion_code, \"unknown\")\n",
    "            data.append({\"path\": str(path), \"emotion\": emotion_name, \"actor\": actor_id})\n",
    "        except (IndexError, ValueError):\n",
    "            print(f\"Could not parse metadata from: {path.name}\")\n",
    "            continue\n",
    "    return pd.DataFrame(data)\n",
    "\n",
    "# Create DataFrame\n",
    "df = get_data_df(config.data_dir, config.emotion_map)\n",
    "\n",
    "# Create label mappings\n",
    "id_to_label = {i: label for i, label in enumerate(sorted(df['emotion'].unique()))}\n",
    "label_to_id = {v: k for k, v in id_to_label.items()}\n",
    "df['label'] = df['emotion'].map(label_to_id)\n",
    "config.num_labels = len(label_to_id)\n",
    "\n",
    "print(f\"Found {len(df)} audio files.\")\n",
    "print(\"Label mapping:\", label_to_id)\n",
    "\n",
    "# Create Splits\n",
    "sgkf = StratifiedGroupKFold(n_splits=config.n_splits, shuffle=True, random_state=config.seed)\n",
    "splits = list(sgkf.split(df, df['label'], df['actor']))\n",
    "\n",
    "train_idx, val_idx = splits[0]\n",
    "_, test_idx = splits[1] # Use a different fold for the test set to ensure no overlap\n",
    "\n",
    "train_df = df.iloc[train_idx].reset_index(drop=True)\n",
    "val_df = df.iloc[val_idx].reset_index(drop=True)\n",
    "test_df = df.iloc[test_idx].reset_index(drop=True)\n",
    "\n",
    "print(f\"Train samples: {len(train_df)} | Validation samples: {len(val_df)} | Test samples: {len(test_df)}\")\n"
   ]
  },
  {
   "cell_type": "code",
   "execution_count": 4,
   "id": "8d808a16-9109-407c-92de-73ad5e4b83c7",
   "metadata": {},
   "outputs": [],
   "source": [
    "def get_augmentations(variety: str):\n",
    "    \"\"\"Returns an augmentation pipeline based on the variety.\"\"\"\n",
    "    if variety == \"strong_aug\":\n",
    "        return Compose([\n",
    "            AddGaussianNoise(min_amplitude=0.001, max_amplitude=0.015, p=0.5),\n",
    "            PitchShift(min_semitones=-4, max_semitones=4, p=0.5),\n",
    "            Gain(min_gain_db=-12, max_gain_db=12, p=0.5), \n",
    "        ])\n",
    "    return None\n",
    "\n",
    "class AudioDataset(Dataset):\n",
    "    def __init__(self, df, feature_extractor, config, augmentations=None):\n",
    "        self.df = df\n",
    "        self.feature_extractor = feature_extractor\n",
    "        self.target_sr = config.sampling_rate\n",
    "        self.max_len = int(config.max_duration_s * self.target_sr)\n",
    "        self.augmentations = augmentations\n",
    "\n",
    "    def __len__(self):\n",
    "        return len(self.df)\n",
    "\n",
    "    def __getitem__(self, idx):\n",
    "        row = self.df.iloc[idx]\n",
    "        path = row['path']\n",
    "        label = row['label']\n",
    "\n",
    "        try:\n",
    "            wav, sr = torchaudio.load(path)\n",
    "            if wav.shape[0] > 1:\n",
    "                wav = torch.mean(wav, dim=0, keepdim=True)\n",
    "            if sr != self.target_sr:\n",
    "                resampler = torchaudio.transforms.Resample(orig_freq=sr, new_freq=self.target_sr)\n",
    "                wav = resampler(wav)\n",
    "\n",
    "            if self.augmentations:\n",
    "                wav_np = wav.squeeze().numpy()\n",
    "                wav_aug = self.augmentations(samples=wav_np, sample_rate=self.target_sr)\n",
    "                wav = torch.from_numpy(wav_aug).unsqueeze(0)\n",
    "\n",
    "            if wav.shape[1] > self.max_len:\n",
    "                wav = wav[:, :self.max_len]\n",
    "            else:\n",
    "                padding = self.max_len - wav.shape[1]\n",
    "                wav = nn.functional.pad(wav, (0, padding))\n",
    "\n",
    "            features = self.feature_extractor(wav.squeeze().numpy(), sampling_rate=self.target_sr, return_tensors=\"pt\")\n",
    "            input_values = features.input_values.squeeze(0)\n",
    "\n",
    "            return {\"input_values\": input_values, \"label\": torch.tensor(label, dtype=torch.long)}\n",
    "\n",
    "        except Exception as e:\n",
    "            # Fallback for corrupted files\n",
    "            print(f\"Error loading or processing file {path}: {e}\")\n",
    "            return self.__getitem__((idx + 1) % len(self))\n",
    "\n"
   ]
  },
  {
   "cell_type": "code",
   "execution_count": 5,
   "id": "82bbe22c-88f9-41a6-966b-b9e7bba76ec9",
   "metadata": {},
   "outputs": [],
   "source": [
    "\n",
    "def build_model(config, fine_tuning_mode):\n",
    "    model_config = AutoConfig.from_pretrained(\n",
    "        config.model_name,\n",
    "        num_labels=config.num_labels,\n",
    "        label2id=label_to_id,\n",
    "        id2label=id_to_label,\n",
    "    )\n",
    "    model = AutoModelForAudioClassification.from_pretrained(config.model_name, config=model_config)\n",
    "\n",
    "    for param in model.parameters():\n",
    "        param.requires_grad = False\n",
    "\n",
    "    if fine_tuning_mode == 'feature_extract':\n",
    "        for param in model.classifier.parameters():\n",
    "            param.requires_grad = True\n",
    "    elif fine_tuning_mode == 'full_finetune':\n",
    "        for param in model.parameters():\n",
    "            param.requires_grad = True\n",
    "    else:\n",
    "        raise ValueError(f\"Invalid fine_tuning_mode: {fine_tuning_mode}\")\n",
    "    return model\n",
    "\n",
    "def train_one_epoch(model, loader, optimizer, scheduler, device):\n",
    "    model.train()\n",
    "    total_loss = 0.0\n",
    "    all_preds, all_labels = [], []\n",
    "\n",
    "    for batch in tqdm(loader, desc=\"Training\"):\n",
    "        optimizer.zero_grad()\n",
    "        input_values = batch['input_values'].to(device)\n",
    "        labels = batch['label'].to(device)\n",
    "\n",
    "        outputs = model(input_values, labels=labels)\n",
    "        loss = outputs.loss\n",
    "        loss.backward()\n",
    "\n",
    "        optimizer.step()\n",
    "        scheduler.step()\n",
    "\n",
    "        total_loss += loss.item() * labels.size(0)\n",
    "        preds = torch.argmax(outputs.logits, dim=1)\n",
    "        all_preds.extend(preds.cpu().numpy())\n",
    "        all_labels.extend(labels.cpu().numpy())\n",
    "\n",
    "    avg_loss = total_loss / len(loader.dataset)\n",
    "    acc = accuracy_score(all_labels, all_preds)\n",
    "    f1 = f1_score(all_labels, all_preds, average='macro', zero_division=0)\n",
    "    return avg_loss, acc, f1\n",
    "\n",
    "def evaluate(model, loader, device):\n",
    "    model.eval()\n",
    "    total_loss = 0.0\n",
    "    all_preds, all_labels = [], []\n",
    "\n",
    "    with torch.no_grad():\n",
    "        for batch in tqdm(loader, desc=\"Evaluating\"):\n",
    "            input_values = batch['input_values'].to(device)\n",
    "            labels = batch['label'].to(device)\n",
    "\n",
    "            outputs = model(input_values, labels=labels)\n",
    "            loss = outputs.loss\n",
    "\n",
    "            total_loss += loss.item() * labels.size(0)\n",
    "            preds = torch.argmax(outputs.logits, dim=1)\n",
    "            all_preds.extend(preds.cpu().numpy())\n",
    "            all_labels.extend(labels.cpu().numpy())\n",
    "\n",
    "    avg_loss = total_loss / len(loader.dataset)\n",
    "    acc = accuracy_score(all_labels, all_preds)\n",
    "    f1 = f1_score(all_labels, all_preds, average='macro', zero_division=0)\n",
    "    return avg_loss, acc, f1, all_labels, all_preds\n",
    "\n"
   ]
  },
  {
   "cell_type": "code",
   "execution_count": 6,
   "id": "12e0635f-9564-4d13-962a-555539b38694",
   "metadata": {},
   "outputs": [],
   "source": [
    "def run_experiment(variety_name: str, fine_tuning_mode: str, augmentation_type: str, config: Config):\n",
    "    print(f\"\\n{'='*20} RUNNING EXPERIMENT: {variety_name} {'='*20}\")\n",
    "\n",
    "    set_seed(config.seed)\n",
    "    variety_output_dir = Path(config.output_dir) / variety_name\n",
    "    variety_output_dir.mkdir(parents=True, exist_ok=True)\n",
    "\n",
    "    feature_extractor = Wav2Vec2FeatureExtractor.from_pretrained(config.model_name)\n",
    "    augmentations = get_augmentations(augmentation_type)\n",
    "\n",
    "    train_ds = AudioDataset(train_df, feature_extractor, config, augmentations=augmentations)\n",
    "    val_ds = AudioDataset(val_df, feature_extractor, config, augmentations=None)\n",
    "\n",
    "    train_loader = DataLoader(train_ds, batch_size=config.batch_size, shuffle=True, num_workers=0)\n",
    "    val_loader = DataLoader(val_ds, batch_size=config.batch_size, shuffle=False, num_workers=0)\n",
    "\n",
    "    model = build_model(config, fine_tuning_mode).to(config.device)\n",
    "\n",
    "    optimizer_grouped_parameters = [\n",
    "        {\"params\": [p for n, p in model.named_parameters() if \"classifier\" in n and p.requires_grad], \"lr\": config.learning_rate_head},\n",
    "        {\"params\": [p for n, p in model.named_parameters() if \"classifier\" not in n and p.requires_grad], \"lr\": config.learning_rate_backbone},\n",
    "    ]\n",
    "    optimizer = torch.optim.AdamW(optimizer_grouped_parameters, weight_decay=config.weight_decay)\n",
    "\n",
    "    num_training_steps = len(train_loader) * config.num_epochs\n",
    "    scheduler = get_linear_schedule_with_warmup(optimizer, num_warmup_steps=config.num_warmup_steps, num_training_steps=num_training_steps)\n",
    "\n",
    "    best_val_f1 = -1\n",
    "    history = []\n",
    "\n",
    "    for epoch in range(1, config.num_epochs + 1):\n",
    "        print(f\"\\n--- Epoch {epoch}/{config.num_epochs} ---\")\n",
    "        train_loss, train_acc, train_f1 = train_one_epoch(model, train_loader, optimizer, scheduler, config.device)\n",
    "        val_loss, val_acc, val_f1, _, _ = evaluate(model, val_loader, config.device)\n",
    "\n",
    "        print(f\"Epoch {epoch:02d} | Train Loss: {train_loss:.4f} Acc: {train_acc:.3f} F1: {train_f1:.3f} | \"\n",
    "              f\"Val Loss: {val_loss:.4f} Acc: {val_acc:.3f} F1: {val_f1:.3f}\")\n",
    "\n",
    "        epoch_results = {\n",
    "            'epoch': epoch,\n",
    "            'train_loss': train_loss, 'train_acc': train_acc, 'train_f1': train_f1,\n",
    "            'val_loss': val_loss, 'val_acc': val_acc, 'val_f1': val_f1\n",
    "        }\n",
    "        history.append(epoch_results)\n",
    "\n",
    "        if val_f1 > best_val_f1:\n",
    "            best_val_f1 = val_f1\n",
    "            print(f\"New best model found with F1 Score of: {best_val_f1:.4f}. Saving model...\")\n",
    "            torch.save(model.state_dict(), variety_output_dir / \"best_model.pt\")\n",
    "\n",
    "    results = {\n",
    "        \"variety_name\": variety_name,\n",
    "        \"best_val_f1\": best_val_f1,\n",
    "        \"config\": asdict(config),\n",
    "        \"history\": history\n",
    "    }\n",
    "    with open(variety_output_dir / \"results.json\", \"w\") as f:\n",
    "        json.dump(results, f, indent=2)\n",
    "    return results\n",
    "\n"
   ]
  },
  {
   "cell_type": "code",
   "execution_count": 7,
   "id": "946e6d0f-77df-42d7-ac81-3664f2545307",
   "metadata": {},
   "outputs": [
    {
     "name": "stdout",
     "output_type": "stream",
     "text": [
      "\n",
      "==================== RUNNING EXPERIMENT: V1_Feature_Extraction ====================\n"
     ]
    },
    {
     "name": "stderr",
     "output_type": "stream",
     "text": [
      "2025-10-21 01:43:17.216058: I tensorflow/core/util/port.cc:153] oneDNN custom operations are on. You may see slightly different numerical results due to floating-point round-off errors from different computation orders. To turn them off, set the environment variable `TF_ENABLE_ONEDNN_OPTS=0`.\n",
      "2025-10-21 01:43:17.460080: I tensorflow/core/platform/cpu_feature_guard.cc:210] This TensorFlow binary is optimized to use available CPU instructions in performance-critical operations.\n",
      "To enable the following instructions: AVX2 AVX512F AVX512_VNNI AVX512_BF16 FMA, in other operations, rebuild TensorFlow with the appropriate compiler flags.\n",
      "2025-10-21 01:43:19.075090: I tensorflow/core/util/port.cc:153] oneDNN custom operations are on. You may see slightly different numerical results due to floating-point round-off errors from different computation orders. To turn them off, set the environment variable `TF_ENABLE_ONEDNN_OPTS=0`.\n"
     ]
    },
    {
     "name": "stdout",
     "output_type": "stream",
     "text": [
      "\n",
      "--- Epoch 1/8 ---\n"
     ]
    },
    {
     "data": {
      "application/vnd.jupyter.widget-view+json": {
       "model_id": "2daf647f40894ddb9219d8fc0f4a3dc5",
       "version_major": 2,
       "version_minor": 0
      },
      "text/plain": [
       "Training:   0%|          | 0/143 [00:00<?, ?it/s]"
      ]
     },
     "metadata": {},
     "output_type": "display_data"
    },
    {
     "data": {
      "application/vnd.jupyter.widget-view+json": {
       "model_id": "e4e58da464204e20a82195a7fb4ac9ec",
       "version_major": 2,
       "version_minor": 0
      },
      "text/plain": [
       "Evaluating:   0%|          | 0/38 [00:00<?, ?it/s]"
      ]
     },
     "metadata": {},
     "output_type": "display_data"
    },
    {
     "name": "stdout",
     "output_type": "stream",
     "text": [
      "Epoch 01 | Train Loss: 2.0692 Acc: 0.168 F1: 0.090 | Val Loss: 2.0563 Acc: 0.293 F1: 0.155\n",
      "New best model found with F1 Score of: 0.1550. Saving model...\n",
      "\n",
      "--- Epoch 2/8 ---\n"
     ]
    },
    {
     "data": {
      "application/vnd.jupyter.widget-view+json": {
       "model_id": "7264a9d9d78d4ff9978863a69a525d73",
       "version_major": 2,
       "version_minor": 0
      },
      "text/plain": [
       "Training:   0%|          | 0/143 [00:00<?, ?it/s]"
      ]
     },
     "metadata": {},
     "output_type": "display_data"
    },
    {
     "data": {
      "application/vnd.jupyter.widget-view+json": {
       "model_id": "080f8d74bf724efe8139a4df0e7c72b3",
       "version_major": 2,
       "version_minor": 0
      },
      "text/plain": [
       "Evaluating:   0%|          | 0/38 [00:00<?, ?it/s]"
      ]
     },
     "metadata": {},
     "output_type": "display_data"
    },
    {
     "name": "stdout",
     "output_type": "stream",
     "text": [
      "Epoch 02 | Train Loss: 2.0496 Acc: 0.279 F1: 0.168 | Val Loss: 2.0416 Acc: 0.323 F1: 0.208\n",
      "New best model found with F1 Score of: 0.2082. Saving model...\n",
      "\n",
      "--- Epoch 3/8 ---\n"
     ]
    },
    {
     "data": {
      "application/vnd.jupyter.widget-view+json": {
       "model_id": "ce0ff5e16e714949a9cbc8ae4d5bc814",
       "version_major": 2,
       "version_minor": 0
      },
      "text/plain": [
       "Training:   0%|          | 0/143 [00:00<?, ?it/s]"
      ]
     },
     "metadata": {},
     "output_type": "display_data"
    },
    {
     "data": {
      "application/vnd.jupyter.widget-view+json": {
       "model_id": "9331feba4c174f3989ddbd1910831477",
       "version_major": 2,
       "version_minor": 0
      },
      "text/plain": [
       "Evaluating:   0%|          | 0/38 [00:00<?, ?it/s]"
      ]
     },
     "metadata": {},
     "output_type": "display_data"
    },
    {
     "name": "stdout",
     "output_type": "stream",
     "text": [
      "Epoch 03 | Train Loss: 2.0386 Acc: 0.324 F1: 0.263 | Val Loss: 2.0315 Acc: 0.377 F1: 0.290\n",
      "New best model found with F1 Score of: 0.2902. Saving model...\n",
      "\n",
      "--- Epoch 4/8 ---\n"
     ]
    },
    {
     "data": {
      "application/vnd.jupyter.widget-view+json": {
       "model_id": "52514d2ffad74409a2f4b545794c56a6",
       "version_major": 2,
       "version_minor": 0
      },
      "text/plain": [
       "Training:   0%|          | 0/143 [00:00<?, ?it/s]"
      ]
     },
     "metadata": {},
     "output_type": "display_data"
    },
    {
     "data": {
      "application/vnd.jupyter.widget-view+json": {
       "model_id": "6694589d492f42a59f4de3df1c64fa38",
       "version_major": 2,
       "version_minor": 0
      },
      "text/plain": [
       "Evaluating:   0%|          | 0/38 [00:00<?, ?it/s]"
      ]
     },
     "metadata": {},
     "output_type": "display_data"
    },
    {
     "name": "stdout",
     "output_type": "stream",
     "text": [
      "Epoch 04 | Train Loss: 2.0294 Acc: 0.329 F1: 0.267 | Val Loss: 2.0238 Acc: 0.380 F1: 0.285\n",
      "\n",
      "--- Epoch 5/8 ---\n"
     ]
    },
    {
     "data": {
      "application/vnd.jupyter.widget-view+json": {
       "model_id": "429359ae971643a1b4bbfb1c16314408",
       "version_major": 2,
       "version_minor": 0
      },
      "text/plain": [
       "Training:   0%|          | 0/143 [00:00<?, ?it/s]"
      ]
     },
     "metadata": {},
     "output_type": "display_data"
    },
    {
     "data": {
      "application/vnd.jupyter.widget-view+json": {
       "model_id": "bd28ff7c61f24ed4a2f811d6538f283e",
       "version_major": 2,
       "version_minor": 0
      },
      "text/plain": [
       "Evaluating:   0%|          | 0/38 [00:00<?, ?it/s]"
      ]
     },
     "metadata": {},
     "output_type": "display_data"
    },
    {
     "name": "stdout",
     "output_type": "stream",
     "text": [
      "Epoch 05 | Train Loss: 2.0230 Acc: 0.362 F1: 0.298 | Val Loss: 2.0180 Acc: 0.413 F1: 0.321\n",
      "New best model found with F1 Score of: 0.3215. Saving model...\n",
      "\n",
      "--- Epoch 6/8 ---\n"
     ]
    },
    {
     "data": {
      "application/vnd.jupyter.widget-view+json": {
       "model_id": "a329b95bc83a42019f268dd3fdcbf999",
       "version_major": 2,
       "version_minor": 0
      },
      "text/plain": [
       "Training:   0%|          | 0/143 [00:00<?, ?it/s]"
      ]
     },
     "metadata": {},
     "output_type": "display_data"
    },
    {
     "data": {
      "application/vnd.jupyter.widget-view+json": {
       "model_id": "b19624dd84a846628fd05a89887a83cd",
       "version_major": 2,
       "version_minor": 0
      },
      "text/plain": [
       "Evaluating:   0%|          | 0/38 [00:00<?, ?it/s]"
      ]
     },
     "metadata": {},
     "output_type": "display_data"
    },
    {
     "name": "stdout",
     "output_type": "stream",
     "text": [
      "Epoch 06 | Train Loss: 2.0172 Acc: 0.379 F1: 0.326 | Val Loss: 2.0139 Acc: 0.403 F1: 0.320\n",
      "\n",
      "--- Epoch 7/8 ---\n"
     ]
    },
    {
     "data": {
      "application/vnd.jupyter.widget-view+json": {
       "model_id": "816e2c4f31ca40e998e9601d748e944e",
       "version_major": 2,
       "version_minor": 0
      },
      "text/plain": [
       "Training:   0%|          | 0/143 [00:00<?, ?it/s]"
      ]
     },
     "metadata": {},
     "output_type": "display_data"
    },
    {
     "data": {
      "application/vnd.jupyter.widget-view+json": {
       "model_id": "b3e1109639204a49b1a486dadd3c6881",
       "version_major": 2,
       "version_minor": 0
      },
      "text/plain": [
       "Evaluating:   0%|          | 0/38 [00:00<?, ?it/s]"
      ]
     },
     "metadata": {},
     "output_type": "display_data"
    },
    {
     "name": "stdout",
     "output_type": "stream",
     "text": [
      "Epoch 07 | Train Loss: 2.0141 Acc: 0.361 F1: 0.298 | Val Loss: 2.0113 Acc: 0.407 F1: 0.315\n",
      "\n",
      "--- Epoch 8/8 ---\n"
     ]
    },
    {
     "data": {
      "application/vnd.jupyter.widget-view+json": {
       "model_id": "420af55bc6d645c3ad9be7f172168b59",
       "version_major": 2,
       "version_minor": 0
      },
      "text/plain": [
       "Training:   0%|          | 0/143 [00:00<?, ?it/s]"
      ]
     },
     "metadata": {},
     "output_type": "display_data"
    },
    {
     "data": {
      "application/vnd.jupyter.widget-view+json": {
       "model_id": "f795968c90214550a89e74e4d083af88",
       "version_major": 2,
       "version_minor": 0
      },
      "text/plain": [
       "Evaluating:   0%|          | 0/38 [00:00<?, ?it/s]"
      ]
     },
     "metadata": {},
     "output_type": "display_data"
    },
    {
     "name": "stdout",
     "output_type": "stream",
     "text": [
      "Epoch 08 | Train Loss: 2.0116 Acc: 0.370 F1: 0.306 | Val Loss: 2.0105 Acc: 0.407 F1: 0.317\n",
      "\n",
      "==================== RUNNING EXPERIMENT: V2_Full_Finetune_LightAug ====================\n",
      "\n",
      "--- Epoch 1/8 ---\n"
     ]
    },
    {
     "data": {
      "application/vnd.jupyter.widget-view+json": {
       "model_id": "aa630d1cca0c434e9fbc40087a1b66b6",
       "version_major": 2,
       "version_minor": 0
      },
      "text/plain": [
       "Training:   0%|          | 0/143 [00:00<?, ?it/s]"
      ]
     },
     "metadata": {},
     "output_type": "display_data"
    },
    {
     "data": {
      "application/vnd.jupyter.widget-view+json": {
       "model_id": "ffbf2d454647451eacbe5d58412148cd",
       "version_major": 2,
       "version_minor": 0
      },
      "text/plain": [
       "Evaluating:   0%|          | 0/38 [00:00<?, ?it/s]"
      ]
     },
     "metadata": {},
     "output_type": "display_data"
    },
    {
     "name": "stdout",
     "output_type": "stream",
     "text": [
      "Epoch 01 | Train Loss: 1.9466 Acc: 0.218 F1: 0.157 | Val Loss: 1.6419 Acc: 0.363 F1: 0.237\n",
      "New best model found with F1 Score of: 0.2368. Saving model...\n",
      "\n",
      "--- Epoch 2/8 ---\n"
     ]
    },
    {
     "data": {
      "application/vnd.jupyter.widget-view+json": {
       "model_id": "d7f8aaf0b5c542308903d6ad45ff80aa",
       "version_major": 2,
       "version_minor": 0
      },
      "text/plain": [
       "Training:   0%|          | 0/143 [00:00<?, ?it/s]"
      ]
     },
     "metadata": {},
     "output_type": "display_data"
    },
    {
     "data": {
      "application/vnd.jupyter.widget-view+json": {
       "model_id": "6aecd38c342b4a6991363a55af8bb93f",
       "version_major": 2,
       "version_minor": 0
      },
      "text/plain": [
       "Evaluating:   0%|          | 0/38 [00:00<?, ?it/s]"
      ]
     },
     "metadata": {},
     "output_type": "display_data"
    },
    {
     "name": "stdout",
     "output_type": "stream",
     "text": [
      "Epoch 02 | Train Loss: 1.4379 Acc: 0.442 F1: 0.381 | Val Loss: 1.2503 Acc: 0.510 F1: 0.408\n",
      "New best model found with F1 Score of: 0.4084. Saving model...\n",
      "\n",
      "--- Epoch 3/8 ---\n"
     ]
    },
    {
     "data": {
      "application/vnd.jupyter.widget-view+json": {
       "model_id": "b4631774856742f5ae7b5c1c54a401af",
       "version_major": 2,
       "version_minor": 0
      },
      "text/plain": [
       "Training:   0%|          | 0/143 [00:00<?, ?it/s]"
      ]
     },
     "metadata": {},
     "output_type": "display_data"
    },
    {
     "data": {
      "application/vnd.jupyter.widget-view+json": {
       "model_id": "3bfd6f0c86e54477adc331ca43bf421f",
       "version_major": 2,
       "version_minor": 0
      },
      "text/plain": [
       "Evaluating:   0%|          | 0/38 [00:00<?, ?it/s]"
      ]
     },
     "metadata": {},
     "output_type": "display_data"
    },
    {
     "name": "stdout",
     "output_type": "stream",
     "text": [
      "Epoch 03 | Train Loss: 0.9319 Acc: 0.665 F1: 0.633 | Val Loss: 0.9317 Acc: 0.673 F1: 0.660\n",
      "New best model found with F1 Score of: 0.6599. Saving model...\n",
      "\n",
      "--- Epoch 4/8 ---\n"
     ]
    },
    {
     "data": {
      "application/vnd.jupyter.widget-view+json": {
       "model_id": "088e4bee786946f38a3fa0167c2bba05",
       "version_major": 2,
       "version_minor": 0
      },
      "text/plain": [
       "Training:   0%|          | 0/143 [00:00<?, ?it/s]"
      ]
     },
     "metadata": {},
     "output_type": "display_data"
    },
    {
     "data": {
      "application/vnd.jupyter.widget-view+json": {
       "model_id": "171ca8dd19214192800b6a0f96908523",
       "version_major": 2,
       "version_minor": 0
      },
      "text/plain": [
       "Evaluating:   0%|          | 0/38 [00:00<?, ?it/s]"
      ]
     },
     "metadata": {},
     "output_type": "display_data"
    },
    {
     "name": "stdout",
     "output_type": "stream",
     "text": [
      "Epoch 04 | Train Loss: 0.6024 Acc: 0.803 F1: 0.791 | Val Loss: 0.8424 Acc: 0.730 F1: 0.718\n",
      "New best model found with F1 Score of: 0.7183. Saving model...\n",
      "\n",
      "--- Epoch 5/8 ---\n"
     ]
    },
    {
     "data": {
      "application/vnd.jupyter.widget-view+json": {
       "model_id": "698b0ee1d357478a8be766939975328c",
       "version_major": 2,
       "version_minor": 0
      },
      "text/plain": [
       "Training:   0%|          | 0/143 [00:00<?, ?it/s]"
      ]
     },
     "metadata": {},
     "output_type": "display_data"
    },
    {
     "data": {
      "application/vnd.jupyter.widget-view+json": {
       "model_id": "145076773d8a413d80399533838e2a95",
       "version_major": 2,
       "version_minor": 0
      },
      "text/plain": [
       "Evaluating:   0%|          | 0/38 [00:00<?, ?it/s]"
      ]
     },
     "metadata": {},
     "output_type": "display_data"
    },
    {
     "name": "stdout",
     "output_type": "stream",
     "text": [
      "Epoch 05 | Train Loss: 0.3319 Acc: 0.904 F1: 0.899 | Val Loss: 0.8130 Acc: 0.770 F1: 0.759\n",
      "New best model found with F1 Score of: 0.7588. Saving model...\n",
      "\n",
      "--- Epoch 6/8 ---\n"
     ]
    },
    {
     "data": {
      "application/vnd.jupyter.widget-view+json": {
       "model_id": "d69b89d0f2994407a49d6d8a86d3a503",
       "version_major": 2,
       "version_minor": 0
      },
      "text/plain": [
       "Training:   0%|          | 0/143 [00:00<?, ?it/s]"
      ]
     },
     "metadata": {},
     "output_type": "display_data"
    },
    {
     "data": {
      "application/vnd.jupyter.widget-view+json": {
       "model_id": "16202b5f6b7948049a51cc804227b774",
       "version_major": 2,
       "version_minor": 0
      },
      "text/plain": [
       "Evaluating:   0%|          | 0/38 [00:00<?, ?it/s]"
      ]
     },
     "metadata": {},
     "output_type": "display_data"
    },
    {
     "name": "stdout",
     "output_type": "stream",
     "text": [
      "Epoch 06 | Train Loss: 0.1899 Acc: 0.952 F1: 0.949 | Val Loss: 1.1718 Acc: 0.717 F1: 0.707\n",
      "\n",
      "--- Epoch 7/8 ---\n"
     ]
    },
    {
     "data": {
      "application/vnd.jupyter.widget-view+json": {
       "model_id": "cab3e5c9947c46b6b848e3b5655df0cc",
       "version_major": 2,
       "version_minor": 0
      },
      "text/plain": [
       "Training:   0%|          | 0/143 [00:00<?, ?it/s]"
      ]
     },
     "metadata": {},
     "output_type": "display_data"
    },
    {
     "data": {
      "application/vnd.jupyter.widget-view+json": {
       "model_id": "206249e9d2a14af49a7bc4df034c57bf",
       "version_major": 2,
       "version_minor": 0
      },
      "text/plain": [
       "Evaluating:   0%|          | 0/38 [00:00<?, ?it/s]"
      ]
     },
     "metadata": {},
     "output_type": "display_data"
    },
    {
     "name": "stdout",
     "output_type": "stream",
     "text": [
      "Epoch 07 | Train Loss: 0.1298 Acc: 0.969 F1: 0.969 | Val Loss: 1.1023 Acc: 0.710 F1: 0.706\n",
      "\n",
      "--- Epoch 8/8 ---\n"
     ]
    },
    {
     "data": {
      "application/vnd.jupyter.widget-view+json": {
       "model_id": "e1194bcbbdbc42689edbf5debc0d11dd",
       "version_major": 2,
       "version_minor": 0
      },
      "text/plain": [
       "Training:   0%|          | 0/143 [00:00<?, ?it/s]"
      ]
     },
     "metadata": {},
     "output_type": "display_data"
    },
    {
     "data": {
      "application/vnd.jupyter.widget-view+json": {
       "model_id": "234112999d66496cbd24f0cf4c603954",
       "version_major": 2,
       "version_minor": 0
      },
      "text/plain": [
       "Evaluating:   0%|          | 0/38 [00:00<?, ?it/s]"
      ]
     },
     "metadata": {},
     "output_type": "display_data"
    },
    {
     "name": "stdout",
     "output_type": "stream",
     "text": [
      "Epoch 08 | Train Loss: 0.0860 Acc: 0.984 F1: 0.984 | Val Loss: 1.1037 Acc: 0.723 F1: 0.715\n",
      "\n",
      "==================== RUNNING EXPERIMENT: V3_Full_Finetune_StrongAug ====================\n",
      "\n",
      "--- Epoch 1/8 ---\n"
     ]
    },
    {
     "data": {
      "application/vnd.jupyter.widget-view+json": {
       "model_id": "05c177dda241489299e398eca69dfac5",
       "version_major": 2,
       "version_minor": 0
      },
      "text/plain": [
       "Training:   0%|          | 0/143 [00:00<?, ?it/s]"
      ]
     },
     "metadata": {},
     "output_type": "display_data"
    },
    {
     "data": {
      "application/vnd.jupyter.widget-view+json": {
       "model_id": "78a50ca4da9c49879d5389b2c0c6fbc7",
       "version_major": 2,
       "version_minor": 0
      },
      "text/plain": [
       "Evaluating:   0%|          | 0/38 [00:00<?, ?it/s]"
      ]
     },
     "metadata": {},
     "output_type": "display_data"
    },
    {
     "name": "stdout",
     "output_type": "stream",
     "text": [
      "Epoch 01 | Train Loss: 2.0597 Acc: 0.158 F1: 0.125 | Val Loss: 2.0681 Acc: 0.133 F1: 0.029\n",
      "New best model found with F1 Score of: 0.0294. Saving model...\n",
      "\n",
      "--- Epoch 2/8 ---\n"
     ]
    },
    {
     "data": {
      "application/vnd.jupyter.widget-view+json": {
       "model_id": "863e7479511c4ddd964e5cea7028c3bd",
       "version_major": 2,
       "version_minor": 0
      },
      "text/plain": [
       "Training:   0%|          | 0/143 [00:00<?, ?it/s]"
      ]
     },
     "metadata": {},
     "output_type": "display_data"
    },
    {
     "data": {
      "application/vnd.jupyter.widget-view+json": {
       "model_id": "10d05a0c67414a87bd88caa6b56c257c",
       "version_major": 2,
       "version_minor": 0
      },
      "text/plain": [
       "Evaluating:   0%|          | 0/38 [00:00<?, ?it/s]"
      ]
     },
     "metadata": {},
     "output_type": "display_data"
    },
    {
     "name": "stdout",
     "output_type": "stream",
     "text": [
      "Epoch 02 | Train Loss: 2.0661 Acc: 0.125 F1: 0.105 | Val Loss: 2.0695 Acc: 0.133 F1: 0.029\n",
      "\n",
      "--- Epoch 3/8 ---\n"
     ]
    },
    {
     "data": {
      "application/vnd.jupyter.widget-view+json": {
       "model_id": "26c1c5fcd7ea4e3db11ad42ee4961270",
       "version_major": 2,
       "version_minor": 0
      },
      "text/plain": [
       "Training:   0%|          | 0/143 [00:00<?, ?it/s]"
      ]
     },
     "metadata": {},
     "output_type": "display_data"
    },
    {
     "data": {
      "application/vnd.jupyter.widget-view+json": {
       "model_id": "6cb26127aa1a48eb9a9be7f92eb015e2",
       "version_major": 2,
       "version_minor": 0
      },
      "text/plain": [
       "Evaluating:   0%|          | 0/38 [00:00<?, ?it/s]"
      ]
     },
     "metadata": {},
     "output_type": "display_data"
    },
    {
     "name": "stdout",
     "output_type": "stream",
     "text": [
      "Epoch 03 | Train Loss: 2.0466 Acc: 0.163 F1: 0.117 | Val Loss: 2.0630 Acc: 0.133 F1: 0.029\n",
      "\n",
      "--- Epoch 4/8 ---\n"
     ]
    },
    {
     "data": {
      "application/vnd.jupyter.widget-view+json": {
       "model_id": "13d11c7c8a8b46ed835b060aa7b5d50c",
       "version_major": 2,
       "version_minor": 0
      },
      "text/plain": [
       "Training:   0%|          | 0/143 [00:00<?, ?it/s]"
      ]
     },
     "metadata": {},
     "output_type": "display_data"
    },
    {
     "data": {
      "application/vnd.jupyter.widget-view+json": {
       "model_id": "8add0a6611e64642bf3fde5a96a0c699",
       "version_major": 2,
       "version_minor": 0
      },
      "text/plain": [
       "Evaluating:   0%|          | 0/38 [00:00<?, ?it/s]"
      ]
     },
     "metadata": {},
     "output_type": "display_data"
    },
    {
     "name": "stdout",
     "output_type": "stream",
     "text": [
      "Epoch 04 | Train Loss: 2.0699 Acc: 0.124 F1: 0.100 | Val Loss: 2.0621 Acc: 0.133 F1: 0.029\n",
      "\n",
      "--- Epoch 5/8 ---\n"
     ]
    },
    {
     "data": {
      "application/vnd.jupyter.widget-view+json": {
       "model_id": "e79593ea413e4fb48608a772d5318d84",
       "version_major": 2,
       "version_minor": 0
      },
      "text/plain": [
       "Training:   0%|          | 0/143 [00:00<?, ?it/s]"
      ]
     },
     "metadata": {},
     "output_type": "display_data"
    },
    {
     "data": {
      "application/vnd.jupyter.widget-view+json": {
       "model_id": "14b1742f736c49ffa2f140534f356eba",
       "version_major": 2,
       "version_minor": 0
      },
      "text/plain": [
       "Evaluating:   0%|          | 0/38 [00:00<?, ?it/s]"
      ]
     },
     "metadata": {},
     "output_type": "display_data"
    },
    {
     "name": "stdout",
     "output_type": "stream",
     "text": [
      "Epoch 05 | Train Loss: 2.0660 Acc: 0.129 F1: 0.096 | Val Loss: 2.0639 Acc: 0.133 F1: 0.029\n",
      "\n",
      "--- Epoch 6/8 ---\n"
     ]
    },
    {
     "data": {
      "application/vnd.jupyter.widget-view+json": {
       "model_id": "c623b56c49d14b20a79bb347a4e9be4a",
       "version_major": 2,
       "version_minor": 0
      },
      "text/plain": [
       "Training:   0%|          | 0/143 [00:00<?, ?it/s]"
      ]
     },
     "metadata": {},
     "output_type": "display_data"
    },
    {
     "data": {
      "application/vnd.jupyter.widget-view+json": {
       "model_id": "e310f7ca3e284327a2d43b176dbcafc1",
       "version_major": 2,
       "version_minor": 0
      },
      "text/plain": [
       "Evaluating:   0%|          | 0/38 [00:00<?, ?it/s]"
      ]
     },
     "metadata": {},
     "output_type": "display_data"
    },
    {
     "name": "stdout",
     "output_type": "stream",
     "text": [
      "Epoch 06 | Train Loss: 2.0665 Acc: 0.122 F1: 0.080 | Val Loss: 2.0616 Acc: 0.133 F1: 0.029\n",
      "\n",
      "--- Epoch 7/8 ---\n"
     ]
    },
    {
     "data": {
      "application/vnd.jupyter.widget-view+json": {
       "model_id": "b45233df7ead424795cbc36faffadad9",
       "version_major": 2,
       "version_minor": 0
      },
      "text/plain": [
       "Training:   0%|          | 0/143 [00:00<?, ?it/s]"
      ]
     },
     "metadata": {},
     "output_type": "display_data"
    },
    {
     "data": {
      "application/vnd.jupyter.widget-view+json": {
       "model_id": "b63413fbdfb046039245c123023359ea",
       "version_major": 2,
       "version_minor": 0
      },
      "text/plain": [
       "Evaluating:   0%|          | 0/38 [00:00<?, ?it/s]"
      ]
     },
     "metadata": {},
     "output_type": "display_data"
    },
    {
     "name": "stdout",
     "output_type": "stream",
     "text": [
      "Epoch 07 | Train Loss: 2.0634 Acc: 0.123 F1: 0.075 | Val Loss: 2.0612 Acc: 0.133 F1: 0.029\n",
      "\n",
      "--- Epoch 8/8 ---\n"
     ]
    },
    {
     "data": {
      "application/vnd.jupyter.widget-view+json": {
       "model_id": "d68370f63de0403fb92d377c534ceb80",
       "version_major": 2,
       "version_minor": 0
      },
      "text/plain": [
       "Training:   0%|          | 0/143 [00:00<?, ?it/s]"
      ]
     },
     "metadata": {},
     "output_type": "display_data"
    },
    {
     "data": {
      "application/vnd.jupyter.widget-view+json": {
       "model_id": "99e231e4552e425a8908a866c99a3e89",
       "version_major": 2,
       "version_minor": 0
      },
      "text/plain": [
       "Evaluating:   0%|          | 0/38 [00:00<?, ?it/s]"
      ]
     },
     "metadata": {},
     "output_type": "display_data"
    },
    {
     "name": "stdout",
     "output_type": "stream",
     "text": [
      "Epoch 08 | Train Loss: 2.0620 Acc: 0.132 F1: 0.069 | Val Loss: 2.0613 Acc: 0.133 F1: 0.029\n",
      "\n",
      "==================== MODEL COMPARISON & ANALYSIS ====================\n",
      "\n",
      "--- Summary of Best Performance for Each Variety ---\n",
      "                            Val F1-Score  Val Accuracy  Train F1-Score  \\\n",
      "Variety                                                                  \n",
      "V1 Feature Extraction           0.321454      0.413333        0.298121   \n",
      "V2 Full Finetune LightAug       0.758787      0.770000        0.899179   \n",
      "V3 Full Finetune StrongAug      0.029412      0.133333        0.124615   \n",
      "\n",
      "                            Best Epoch  \n",
      "Variety                                 \n",
      "V1 Feature Extraction                5  \n",
      "V2 Full Finetune LightAug            5  \n",
      "V3 Full Finetune StrongAug           1  \n"
     ]
    },
    {
     "data": {
      "image/png": "[encoded data removed]",
      "text/plain": [
       "<Figure size 1500x1200 with 2 Axes>"
      ]
     },
     "metadata": {},
     "output_type": "display_data"
    },
    {
     "name": "stdout",
     "output_type": "stream",
     "text": [
      "\n",
      "--- Conclusion ---\n",
      "The best performing model variety is 'V2 Full Finetune LightAug' with a validation Macro F1-Score of 0.7588.\n",
      "This indicates that the chosen strategy provided the best generalization on unseen validation data.\n"
     ]
    }
   ],
   "source": [
    "all_results = {}\n",
    "varieties_to_run = [\n",
    "    {\"name\": \"V1_Feature_Extraction\", \"mode\": \"feature_extract\", \"aug\": \"none\"},\n",
    "    {\"name\": \"V2_Full_Finetune_LightAug\", \"mode\": \"full_finetune\", \"aug\": \"none\"},\n",
    "    {\"name\": \"V3_Full_Finetune_StrongAug\", \"mode\": \"full_finetune\", \"aug\": \"strong_aug\"},\n",
    "]\n",
    "\n",
    "for var in varieties_to_run:\n",
    "    results = run_experiment(var[\"name\"], var[\"mode\"], var[\"aug\"], config)\n",
    "    all_results[var[\"name\"]] = results\n",
    "\n",
    "print(f\"\\n{'='*20} MODEL COMPARISON & ANALYSIS {'='*20}\")\n",
    "\n",
    "summary_data = []\n",
    "for name, res in all_results.items():\n",
    "    best_epoch_data = max(res['history'], key=lambda x: x['val_f1'])\n",
    "    summary_data.append({\n",
    "        \"Variety\": name.replace(\"_\", \" \"),\n",
    "        \"Val F1-Score\": best_epoch_data['val_f1'],\n",
    "        \"Val Accuracy\": best_epoch_data['val_acc'],\n",
    "        \"Train F1-Score\": best_epoch_data['train_f1'],\n",
    "        \"Best Epoch\": best_epoch_data['epoch']\n",
    "    })\n",
    "summary_df = pd.DataFrame(summary_data).set_index(\"Variety\")\n",
    "print(\"\\n--- Summary of Best Performance for Each Variety ---\")\n",
    "print(summary_df)\n",
    "\n",
    "\n",
    "fig, axes = plt.subplots(2, 1, figsize=(15, 12), sharex=True)\n",
    "fig.suptitle('Training & Validation Metrics Across Varieties', fontsize=16)\n",
    "\n",
    "# Plot F1 Scores\n",
    "for name, res in all_results.items():\n",
    "    history_df = pd.DataFrame(res['history'])\n",
    "    axes[0].plot(history_df['epoch'], history_df['train_f1'], 'o--', label=f'{name} (Train)')\n",
    "    axes[0].plot(history_df['epoch'], history_df['val_f1'], 'o-', label=f'{name} (Val)')\n",
    "axes[0].set_ylabel(\"Macro F1-Score\")\n",
    "axes[0].set_title(\"F1-Score vs. Epochs\")\n",
    "axes[0].legend()\n",
    "axes[0].grid(True)\n",
    "\n",
    "# Plot Losses\n",
    "for name, res in all_results.items():\n",
    "    history_df = pd.DataFrame(res['history'])\n",
    "    axes[1].plot(history_df['epoch'], history_df['train_loss'], 'o--', label=f'{name} (Train)')\n",
    "    axes[1].plot(history_df['epoch'], history_df['val_loss'], 'o-', label=f'{name} (Val)')\n",
    "axes[1].set_ylabel(\"Loss\")\n",
    "axes[1].set_xlabel(\"Epoch\")\n",
    "axes[1].set_title(\"Loss vs. Epochs\")\n",
    "axes[1].legend()\n",
    "axes[1].grid(True)\n",
    "\n",
    "plt.tight_layout(rect=[0, 0.03, 1, 0.97])\n",
    "plt.savefig(Path(config.output_dir) / \"all_varieties_training_plots.png\")\n",
    "plt.show()\n",
    "\n",
    "# --- Conclusion ---\n",
    "best_variety_name_cleaned = summary_df['Val F1-Score'].idxmax()\n",
    "best_variety_name = best_variety_name_cleaned.replace(\" \", \"_\")\n",
    "print(f\"\\n--- Conclusion ---\")\n",
    "print(f\"The best performing model variety is '{best_variety_name_cleaned}' \"\n",
    "      f\"with a validation Macro F1-Score of {summary_df['Val F1-Score'].max():.4f}.\")\n",
    "print(\"This indicates that the chosen strategy provided the best generalization on unseen validation data.\")\n",
    "\n"
   ]
  },
  {
   "cell_type": "code",
   "execution_count": null,
   "id": "c701cf62-642b-46cb-b54a-8ee8ab953634",
   "metadata": {},
   "outputs": [],
   "source": [
    "\n",
    "print(f\"\\n{'='*20} FINAL EVALUATION ON TEST SET ({best_variety_name_cleaned}) {'='*20}\")\n",
    "\n",
    "# --- Load the single best model ---\n",
    "best_model_path = Path(config.output_dir) / best_variety_name / \"best_model.pt\"\n",
    "# Determine the mode used for the best model to build it correctly\n",
    "best_model_mode = [v['mode'] for v in varieties_to_run if v['name'] == best_variety_name][0]\n",
    "\n",
    "best_model = build_model(config, fine_tuning_mode=best_model_mode).to(config.device)\n",
    "best_model.load_state_dict(torch.load(best_model_path))\n",
    "\n",
    "# --- Create Test Loader ---\n",
    "feature_extractor = Wav2Vec2FeatureExtractor.from_pretrained(config.model_name)\n",
    "test_ds = AudioDataset(test_df, feature_extractor, config, augmentations=None)\n",
    "test_loader = DataLoader(test_ds, batch_size=config.batch_size, shuffle=False, num_workers=0)\n",
    "\n",
    "# --- Evaluate ---\n",
    "test_loss, test_acc, test_f1, all_labels, all_preds = evaluate(best_model, test_loader, config.device)\n",
    "\n",
    "print(f\"\\n--- Test Set Performance ---\")\n",
    "print(f\"Loss: {test_loss:.4f} | Accuracy: {test_acc:.4f} | Macro F1-Score: {test_f1:.4f}\")\n",
    "\n",
    "# --- Classification Report ---\n",
    "report = classification_report(all_labels, all_preds, target_names=label_to_id.keys(), zero_division=0)\n",
    "print(\"\\n--- Classification Report ---\\n\")\n",
    "print(report)\n",
    "\n",
    "# --- Confusion Matrix ---\n",
    "cm = confusion_matrix(all_labels, all_preds)\n",
    "plt.figure(figsize=(10, 8))\n",
    "sns.heatmap(cm, annot=True, fmt='d', cmap='Blues', xticklabels=label_to_id.keys(), yticklabels=label_to_id.keys())\n",
    "plt.title(f'Confusion Matrix for {best_variety_name_cleaned} on Test Set')\n",
    "plt.xlabel('Predicted Label')\n",
    "plt.ylabel('True Label')\n",
    "plt.savefig(Path(config.output_dir) / f\"final_confusion_matrix_{best_variety_name}.png\")\n",
    "plt.show()\n",
    "\n",
    "print(f\"\\nAll artifacts saved to: {Path(config.output_dir).resolve()}\")"
   ]
  }
 ],
 "metadata": {
  "kernelspec": {
   "display_name": "Python 3 (ipykernel)",
   "language": "python",
   "name": "python3"
  },
  "language_info": {
   "codemirror_mode": {
    "name": "ipython",
    "version": 3
   },
   "file_extension": ".py",
   "mimetype": "text/x-python",
   "name": "python",
   "nbconvert_exporter": "python",
   "pygments_lexer": "ipython3",
   "version": "3.12.11"
  }
 },
 "nbformat": 4,
 "nbformat_minor": 5
}
