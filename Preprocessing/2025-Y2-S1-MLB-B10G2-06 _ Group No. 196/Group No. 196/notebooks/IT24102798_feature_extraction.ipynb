{
 "cells": [
  {
   "cell_type": "markdown",
   "id": "a9a5f40c-8f5b-404d-8427-334613ae5654",
   "metadata": {},
   "source": [
    "# Speech Emotion Recognition – Preprocessing\n",
    "## Notebook 1: Feature Extraction from Audio Files\n",
    "\n",
    "**Registration Number:** IT24102798  \n",
    "**Task:** Extract features (MFCC, Chroma, Mel) using GPU acceleration.  \n",
    "**Objective:** Convert raw audio into numerical feature vectors efficiently with CUDA.\n"
   ]
  },
  {
   "cell_type": "markdown",
   "id": "0dc0e97f-01e4-4287-acdc-4b86f50e3a71",
   "metadata": {},
   "source": [
    "### Step 1: Importing Libraries\n",
    "First, we need to import the necessary Libraries."
   ]
  },
  {
   "cell_type": "code",
   "execution_count": 1,
   "id": "ba7c11bd-e11d-4e1b-ad4b-b65c4206cee8",
   "metadata": {},
   "outputs": [
    {
     "name": "stdout",
     "output_type": "stream",
     "text": [
      "Using device: cpu\n"
     ]
    }
   ],
   "source": [
    "import os\n",
    "import torch\n",
    "import torchaudio\n",
    "import librosa\n",
    "import numpy as np\n",
    "import pandas as pd\n",
    "import matplotlib.pyplot as plt\n",
    "import seaborn as sns\n",
    "\n",
    "device = \"cuda\" if torch.cuda.is_available() else \"cpu\"\n",
    "print(\"Using device:\", device)\n",
    "\n",
    "np.random.seed(42)"
   ]
  },
  {
   "cell_type": "markdown",
   "id": "5f2f5e37-3be7-4b4a-8e5c-44c07e4b1162",
   "metadata": {},
   "source": [
    "### Step 2: Emotion Mapping\n",
    "The RAVDESS dataset encodes emotions as numbers in filenames.  \n",
    "We map them to human-readable labels."
   ]
  },
  {
   "cell_type": "code",
   "execution_count": 2,
   "id": "3978c720-ce17-4bc9-8efa-ecebdba60937",
   "metadata": {},
   "outputs": [],
   "source": [
    "emotion_map = {\n",
    "    '01': 'neutral',\n",
    "    '02': 'calm',\n",
    "    '03': 'happy',\n",
    "    '04': 'sad',\n",
    "    '05': 'angry',\n",
    "    '06': 'fearful',\n",
    "    '07': 'disgust',\n",
    "    '08': 'surprised'\n",
    "}"
   ]
  },
  {
   "cell_type": "markdown",
   "id": "45b0a01a-2a16-4edd-b77a-4f6af2fa1d80",
   "metadata": {},
   "source": [
    "### Step 3: Feature Extraction Function\n",
    "We extract:  \n",
    "- **MFCC (40 coefficients)** - timbre, tone quality  \n",
    "- **Chroma** - pitch class distribution  \n",
    "- **Mel-Spectrogram** - energy in frequencies  "
   ]
  },
  {
   "cell_type": "code",
   "execution_count": 3,
   "id": "06764c1e-3b6f-494e-8a53-f2d5c1d80286",
   "metadata": {},
   "outputs": [],
   "source": [
    "device = torch.device(\"cuda\" if torch.cuda.is_available() else \"cpu\")\n",
    "\n",
    "mfcc_transform = torchaudio.transforms.MFCC(\n",
    "    sample_rate=48000,\n",
    "    n_mfcc=40,\n",
    "    melkwargs={\"n_fft\": 2048, \"hop_length\": 512, \"n_mels\": 128}  # bigger FFT for higher quality\n",
    ").to(device)\n",
    "\n",
    "mel_transform = torchaudio.transforms.MelSpectrogram(\n",
    "    sample_rate=48000,\n",
    "    n_fft=2048,\n",
    "    hop_length=512,\n",
    "    n_mels=128\n",
    ").to(device)\n",
    "\n",
    "def extract_features(file_path):\n",
    "    waveform, sr = torchaudio.load(file_path)\n",
    "\n",
    "    if waveform.shape[0] > 1:\n",
    "        waveform = waveform.mean(dim=0, keepdim=True)\n",
    "\n",
    "    if sr != 48000:\n",
    "        waveform = torchaudio.transforms.Resample(orig_freq=sr, new_freq=48000)(waveform)\n",
    "        sr = 48000\n",
    "\n",
    "    waveform = waveform.to(device).squeeze(0)\n",
    "\n",
    "    mfcc = mfcc_transform(waveform.unsqueeze(0)).squeeze()\n",
    "\n",
    "    mel = mel_transform(waveform.unsqueeze(0)).squeeze()\n",
    "\n",
    "    waveform_np = waveform.cpu().numpy()\n",
    "    chroma = librosa.feature.chroma_stft(\n",
    "        y=waveform_np,\n",
    "        sr=sr,\n",
    "        n_fft=2048,\n",
    "        hop_length=512\n",
    "    )\n",
    "    chroma = torch.tensor(chroma, device=device, dtype=torch.float32)\n",
    "\n",
    "    return mfcc, mel, chroma"
   ]
  },
  {
   "cell_type": "markdown",
   "id": "406547c1-2649-46c1-b00e-eb6a5164847c",
   "metadata": {},
   "source": [
    "### Step 4: Load Dataset & Extract Features"
   ]
  },
  {
   "cell_type": "code",
   "execution_count": 9,
   "id": "b249e1f7-12ee-4938-afb6-390d9e573c42",
   "metadata": {},
   "outputs": [
    {
     "name": "stdout",
     "output_type": "stream",
     "text": [
      "Total MFCC Features processed: 2880\n",
      "Total Mel Features processed: 2880\n",
      "Total Chroma Features processed: 2880\n"
     ]
    }
   ],
   "source": [
    "ravdess_dir = \"../data/ravdess\"\n",
    "mfcc_features, mel_features, chroma_features, emotion_labels = [], [], [], []\n",
    "\n",
    "for root, dirs, files in os.walk(ravdess_dir):\n",
    "    for file in files:\n",
    "        if file.endswith(\".wav\"):\n",
    "            file_path = os.path.join(root, file)\n",
    "            emotion_code = file.split(\"-\")[2]\n",
    "            emotion = emotion_map.get(emotion_code)\n",
    "            if emotion:\n",
    "                try:\n",
    "                    mfcc, mel, chroma = extract_features(file_path)\n",
    "                    \n",
    "                    mfcc_features.append(mfcc)\n",
    "                    mel_features.append(mel)\n",
    "                    chroma_features.append(chroma)\n",
    "                    emotion_labels.append(emotion)\n",
    "                except Exception as e:\n",
    "                    print(\"Error in:\", file_path, e)\n",
    "\n",
    "print(\"Total MFCC Features processed:\", len(mfcc_features))\n",
    "print(\"Total Mel Features processed:\", len(mel_features))\n",
    "print(\"Total Chroma Features processed:\", len(chroma_features))"
   ]
  },
  {
   "cell_type": "markdown",
   "id": "60eda456-80c5-4ada-9e8d-588749c84317",
   "metadata": {},
   "source": [
    "### Step 5: Feature Padding Function"
   ]
  },
  {
   "cell_type": "code",
   "execution_count": 10,
   "id": "3a5d17f8-6dc5-4d06-8012-d47df8b79973",
   "metadata": {},
   "outputs": [],
   "source": [
    "def pad_feature(extracted_features):\n",
    "    max_length = max(len(sub_feature) for sub_feature in extracted_features)\n",
    "\n",
    "    padded_extracted_features = []\n",
    "    for sub_feature in extracted_features:\n",
    "        padding_needed = max_length - len(sub_feature)\n",
    "\n",
    "        sub_feature_np = np.array(sub_feature)\n",
    "\n",
    "        if padding_needed != 0:\n",
    "            padded_sub_feature = np.pad(sub_feature_np, (0, padding_needed), 'constant', constant_values=0)\n",
    "        else:\n",
    "            padded_sub_feature = sub_feature_np\n",
    "        \n",
    "        padded_extracted_features.append(padded_sub_feature)\n",
    "\n",
    "    return padded_extracted_features"
   ]
  },
  {
   "cell_type": "markdown",
   "id": "89223681-b25d-4fe0-b3bb-09981306cfd9",
   "metadata": {},
   "source": [
    "### Step 6: Convert to Arrays"
   ]
  },
  {
   "cell_type": "code",
   "execution_count": 2,
   "id": "91aef899-0084-4b11-b4ad-f63bf63bf818",
   "metadata": {},
   "outputs": [
    {
     "ename": "NameError",
     "evalue": "name 'pad_feature' is not defined",
     "output_type": "error",
     "traceback": [
      "\u001b[31m---------------------------------------------------------------------------\u001b[39m",
      "\u001b[31mNameError\u001b[39m                                 Traceback (most recent call last)",
      "\u001b[36mCell\u001b[39m\u001b[36m \u001b[39m\u001b[32mIn[2]\u001b[39m\u001b[32m, line 1\u001b[39m\n\u001b[32m----> \u001b[39m\u001b[32m1\u001b[39m padded_mfcc_features = \u001b[43mpad_feature\u001b[49m(mfcc_features)\n\u001b[32m      2\u001b[39m padded_mel_features = pad_feature(mel_features)\n\u001b[32m      3\u001b[39m padded_chroma_features = pad_feature(chroma_features)\n",
      "\u001b[31mNameError\u001b[39m: name 'pad_feature' is not defined"
     ]
    }
   ],
   "source": [
    "padded_mfcc_features = pad_feature(mfcc_features)\n",
    "padded_mel_features = pad_feature(mel_features)\n",
    "padded_chroma_features = pad_feature(chroma_features)\n",
    "\n",
    "mfcc_array = np.hstack(padded_mfcc_features)\n",
    "mel_array = np.hstack(padded_mel_features)\n",
    "chroma_array = np.hstack(padded_chroma_features)"
   ]
  },
  {
   "cell_type": "markdown",
   "id": "a9ae478f-c9ed-417b-8329-383a15584980",
   "metadata": {},
   "source": [
    "### Step 7: Save Processed Data\n",
    "Save as `.npy` for fast reloading in later notebooks."
   ]
  },
  {
   "cell_type": "code",
   "execution_count": 1,
   "id": "6ec6a200-bd52-4a19-aebd-8245e343e91c",
   "metadata": {},
   "outputs": [
    {
     "ename": "NameError",
     "evalue": "name 'os' is not defined",
     "output_type": "error",
     "traceback": [
      "\u001b[31m---------------------------------------------------------------------------\u001b[39m",
      "\u001b[31mNameError\u001b[39m                                 Traceback (most recent call last)",
      "\u001b[36mCell\u001b[39m\u001b[36m \u001b[39m\u001b[32mIn[1]\u001b[39m\u001b[32m, line 1\u001b[39m\n\u001b[32m----> \u001b[39m\u001b[32m1\u001b[39m \u001b[43mos\u001b[49m.makedirs(\u001b[33m\"\u001b[39m\u001b[33m../results/features_and_labels\u001b[39m\u001b[33m\"\u001b[39m, exist_ok=\u001b[38;5;28;01mTrue\u001b[39;00m)\n\u001b[32m      3\u001b[39m np.save(\u001b[33m\"\u001b[39m\u001b[33m../results/features_and_labels/X_features.npy\u001b[39m\u001b[33m\"\u001b[39m, X)\n\u001b[32m      4\u001b[39m np.save(\u001b[33m\"\u001b[39m\u001b[33m../results/features_and_labels/y_labels.npy\u001b[39m\u001b[33m\"\u001b[39m, y)\n",
      "\u001b[31mNameError\u001b[39m: name 'os' is not defined"
     ]
    }
   ],
   "source": [
    "os.makedirs(\"../results/features_and_labels\", exist_ok=True)\n",
    "\n",
    "np.save(\"../results/features_and_labels/X_features.npy\", X)\n",
    "np.save(\"../results/features_and_labels/y_labels.npy\", y)\n",
    "\n",
    "print(\"Saved X_features.npy and y_labels.npy to ../results/features_and_labels/\")"
   ]
  },
  {
   "cell_type": "markdown",
   "id": "13b6bef8-a15e-44a0-9082-a56a50de8e3f",
   "metadata": {},
   "source": [
    "### Step 8: Quick EDA\n",
    "Check class distribution before preprocessing."
   ]
  },
  {
   "cell_type": "code",
   "execution_count": 27,
   "id": "701d1eb2-7d7a-4e15-82e0-1b83c789a9e3",
   "metadata": {},
   "outputs": [
    {
     "name": "stderr",
     "output_type": "stream",
     "text": [
      "C:\\Users\\MSI\\AppData\\Local\\Temp\\ipykernel_26456\\3146610740.py:2: FutureWarning: \n",
      "\n",
      "Passing `palette` without assigning `hue` is deprecated and will be removed in v0.14.0. Assign the `x` variable to `hue` and set `legend=False` for the same effect.\n",
      "\n",
      "  sns.countplot(x=y, order=pd.Series(y).value_counts().index, palette=\"muted\", legend=False)\n"
     ]
    },
    {
     "data": {
      "image/png": "[encoded data removed]",
      "text/plain": [
       "<Figure size 800x500 with 1 Axes>"
      ]
     },
     "metadata": {},
     "output_type": "display_data"
    }
   ],
   "source": [
    "plt.figure(figsize=(8,5))\n",
    "sns.countplot(x=y, order=pd.Series(y).value_counts().index, palette=\"muted\", legend=False)\n",
    "plt.title(\"Emotion Distribution in RAVDESS (Raw)\")\n",
    "plt.xticks(rotation=45)\n",
    "plt.show()"
   ]
  },
  {
   "cell_type": "markdown",
   "id": "2526b9bb-54de-4d65-abbb-cb9e19126f07",
   "metadata": {},
   "source": [
    "# ✅ Conclusion\n",
    "- Used **torchaudio (GPU)** for faster feature extraction.  \n",
    "- Extracted **MFCC, Mel, and Chroma** features from RAVDESS audio files.  \n",
    "- Saved into `.npy`.  \n",
    "- Pipeline is now GPU-ready for future real-time inference.\n"
   ]
  },
  {
   "cell_type": "code",
   "execution_count": null,
   "id": "dcdb0dab-ea46-4606-ae30-a317023908a1",
   "metadata": {},
   "outputs": [],
   "source": []
  }
 ],
 "metadata": {
  "kernelspec": {
   "display_name": "Python [conda env:Speech_Recognition_ENV]",
   "language": "python",
   "name": "conda-env-Speech_Recognition_ENV-py"
  },
  "language_info": {
   "codemirror_mode": {
    "name": "ipython",
    "version": 3
   },
   "file_extension": ".py",
   "mimetype": "text/x-python",
   "name": "python",
   "nbconvert_exporter": "python",
   "pygments_lexer": "ipython3",
   "version": "3.13.7"
  }
 },
 "nbformat": 4,
 "nbformat_minor": 5
}
